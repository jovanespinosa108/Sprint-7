{
 "cells": [
  {
   "cell_type": "markdown",
   "id": "92fc6967",
   "metadata": {},
   "source": [
    "INPUT OUTPUT DATA\n",
    "\n",
    "Si alguna vez has utilizado una computadora, deberías saber qué son los archivos. Básicamente, los archivos son fragmentos de información o datos que guardamos para almacenarlos a largo plazo y reutilizarlos más tarde. Independientemente del tipo de archivo, en el fondo, todos los archivos están codificados en bits. La estructura de codificación depende del tipo de archivo. Para representar los distintos tipos de archivos, utilizamos extensiones de nombres de archivo, ya sea .txt, .py, .jpeg o cualquier otra.\n",
    "\n",
    "A menudo necesitamos que nuestros programas Python lean datos de archivos externos, editen archivos existentes o creen archivos nuevos. Ya hemos leído muchos archivos con la función read_csv() de Pandas. En esta lección, aprenderemos cómo se pueden abrir archivos y trabajar con ellos (entrada y salida de archivos, o E/S de archivos para abreviar) en Python de una manera más general.\n",
    "\n",
    "Nuestros ejemplos en esta lección se centrarán en archivos de texto, ya que son ampliamente utilizados para almacenar y transferir datos.\n",
    "\n",
    "Leer desde archivos\n",
    "\n",
    "Python tiene una función incorporada open() que puede abrir cualquier archivo. Todo lo que necesitamos hacer es pasar la ruta hacia el archivo a la función. Por defecto, los archivos se abren en modo “lectura”, lo que significa que podemos obtener información de los mismos, pero no podemos editarlos."
   ]
  },
  {
   "cell_type": "code",
   "execution_count": 2,
   "id": "1847100c",
   "metadata": {},
   "outputs": [],
   "source": [
    "f =open('my_file.txt', mode='r')"
   ]
  },
  {
   "cell_type": "markdown",
   "id": "1c7a3235",
   "metadata": {},
   "source": [
    "Así es como se ve el contenido de my_file.txt:\n",
    "\n",
    "\"No entres dócilmente en esa buena noche\"\n",
    "[12, 13, 14]\n",
    "100.42\n",
    "Alice\n",
    "\n",
    "pero esto es lo que obtendremos al imprimir f:"
   ]
  },
  {
   "cell_type": "code",
   "execution_count": 3,
   "id": "00499a05",
   "metadata": {},
   "outputs": [
    {
     "name": "stdout",
     "output_type": "stream",
     "text": [
      "<_io.TextIOWrapper name='my_file.txt' mode='r' encoding='utf-8'>\n"
     ]
    }
   ],
   "source": [
    "f = open('my_file.txt')\n",
    "print(f)\n",
    "f.close()"
   ]
  },
  {
   "cell_type": "markdown",
   "id": "22365cb1",
   "metadata": {},
   "source": [
    "La salida actual puede no ser la esperada, lo cual se debe a que la variable f, que representa el archivo abierto, es un objeto que requiere código adicional para leer su contenido. Por sí solo no puede hacer mucho, por lo tanto, necesitamos escribir código adicional para leer el contenido del archivo.\n",
    "\n",
    "Al abrir un archivo se crea un objeto de tipo file:"
   ]
  },
  {
   "cell_type": "code",
   "execution_count": 4,
   "id": "aa266f46",
   "metadata": {},
   "outputs": [
    {
     "name": "stdout",
     "output_type": "stream",
     "text": [
      "<class '_io.TextIOWrapper'>\n"
     ]
    }
   ],
   "source": [
    "f = open('my_file.txt')\n",
    "print(type(f))\n",
    "f.close()"
   ]
  },
  {
   "cell_type": "markdown",
   "id": "72dabcad",
   "metadata": {},
   "source": [
    "Ten en cuenta que también usamos el método close() para cerrar el archivo después de que hayamos terminado con él. Cerrar archivos cuando ya no se necesitan es una buena costumbre, de lo contrario ocupan memoria y pueden provocar problemas imprevistos.\n",
    "\n",
    "Ahora vamos a leer nuestro archivo y mostrar su contenido. Una forma de hacerlo es recorrer cada línea del archivo e imprimir cada una de ellas:"
   ]
  },
  {
   "cell_type": "code",
   "execution_count": 5,
   "id": "fdf03314",
   "metadata": {},
   "outputs": [
    {
     "name": "stdout",
     "output_type": "stream",
     "text": [
      "\"No entres dócilmente en esa buena noche\"\n",
      "\n",
      "[12, 13, 14]\n",
      "\n",
      "100.42\n",
      "\n",
      "Alice\n"
     ]
    }
   ],
   "source": [
    "f = open('my_file.txt')\n",
    "\n",
    "for line in f:\n",
    "    print(line)\n",
    "\n",
    "f.close()"
   ]
  },
  {
   "cell_type": "markdown",
   "id": "8b6f6a56",
   "metadata": {},
   "source": [
    "Imprimimos todo el contenido, pero había líneas en blanco extra que no estaban en el archivo original. Esto se debe a que el final de cada línea en my_file.txt termina con el carácter de nueva línea \\\\n y, por defecto, print() termina cada salida con un carácter de nueva línea también. Podemos arreglar esto usando en cada línea el método rstrip(), que elimina todos los espacios en blanco al final de una cadena:"
   ]
  },
  {
   "cell_type": "code",
   "execution_count": 6,
   "id": "0a19caf6",
   "metadata": {},
   "outputs": [
    {
     "name": "stdout",
     "output_type": "stream",
     "text": [
      "\"No entres dócilmente en esa buena noche\"\n",
      "[12, 13, 14]\n",
      "100.42\n",
      "Alice\n"
     ]
    }
   ],
   "source": [
    "f = open('my_file.txt')\n",
    "\n",
    "for line in f:\n",
    "    print(line.rstrip())\n",
    "\n",
    "f.close()"
   ]
  },
  {
   "cell_type": "markdown",
   "id": "52256bee",
   "metadata": {},
   "source": [
    "El método anterior funciona, pero también podemos utilizar los métodos read() o readlines() para conseguir el mismo objetivo. El método read() lee todo el archivo como una sola cadena, mientras que el método readlines() crea una lista de cadenas, donde cada elemento de la lista es una línea del archivo:"
   ]
  },
  {
   "cell_type": "code",
   "execution_count": 8,
   "id": "3bc41667",
   "metadata": {},
   "outputs": [
    {
     "name": "stdout",
     "output_type": "stream",
     "text": [
      "\"No entres dócilmente en esa buena noche\"\n",
      "[12, 13, 14]\n",
      "100.42\n",
      "Alice\n",
      "\n",
      "['\"No entres dócilmente en esa buena noche\"\\n', '[12, 13, 14]\\n', '100.42\\n', 'Alice']\n"
     ]
    }
   ],
   "source": [
    "# read() lee todo el achivo en una columna\n",
    "f = open('my_file.txt')\n",
    "print(f.read())\n",
    "\n",
    "f.close()\n",
    "\n",
    "print() # imprimir una línea vacía para separar\n",
    "\n",
    "# readlines() crea una lista de cadenas\n",
    "f = open('my_file.txt')\n",
    "print(f.readlines())\n",
    "\n",
    "f.close()"
   ]
  },
  {
   "cell_type": "markdown",
   "id": "3bebd13f",
   "metadata": {},
   "source": [
    "Con readlines(), podemos recorrer la lista para mostrar cada línea o procesarlas por separado.\n",
    "\n",
    "Fíjate en que hemos tenido que cerrar el archivo y abrirlo de nuevo para leer todo su contenido dos veces. Esto se debe a que no podemos acceder a las líneas anteriores del archivo después de haberlas leído desde el objeto file (archivo). Si necesitamos conservar las líneas anteriores, debemos almacenarlas en una lista o en alguna otra estructura de datos.\n",
    "\n",
    "Finalmente, también podemos abrir archivos usando el administrador de contexto de Python. Para ello, creamos un bloque with y abrimos el archivo en el encabezado de este bloque. La ventaja del administrador de contexto es que cierra automáticamente el archivo cuando nuestro programa sale del bloque with:"
   ]
  },
  {
   "cell_type": "code",
   "execution_count": 9,
   "id": "416c8621",
   "metadata": {},
   "outputs": [
    {
     "name": "stdout",
     "output_type": "stream",
     "text": [
      "\"No entres dócilmente en esa buena noche\"\n",
      "[12, 13, 14]\n",
      "100.42\n",
      "Alice\n"
     ]
    }
   ],
   "source": [
    "# Bloque with para abrir archivos\n",
    "with open('my_file.txt') as f:\n",
    "    for line in f.readlines():\n",
    "        print(line.rstrip())"
   ]
  },
  {
   "cell_type": "markdown",
   "id": "921f9aba",
   "metadata": {},
   "source": [
    "Escribir en archivos\n",
    "\n",
    "Basta ya de leer, ¿qué pasa si queremos guardar nuestros datos? Podemos crear nuevos archivos o editar archivos existentes abriéndolos en modo “escritura”. Tenemos dos opciones que podemos pasar como argumento mode= a open() para escribir:\n",
    "\n",
    "'w': abre un nuevo archivo vacío en el que se puede escribir.\n",
    "\n",
    "'a': abre un archivo nuevo o ya existente y le añade texto.\n",
    "\n",
    "Ten cuidado al utilizar mode='w': si abres un archivo con la misma ruta y nombre que un archivo existente, ¡sobrescribirás completamente el contenido de este antiguo archivo!\n",
    "\n",
    "Después de abrir un archivo, debemos escribir datos en él. Lo podemos hacer con el método write(), que toma un único argumento de cadena y escribe esa cadena en cualquier lugar del archivo, comenzando por donde nos encontremos.\n",
    "\n",
    "Supongamos que escribimos un diario personal. El siguiente código añadirá contenido al texto existente sin borrar nada del contenido previo del archivo:"
   ]
  },
  {
   "cell_type": "code",
   "execution_count": 11,
   "id": "2837cd18",
   "metadata": {},
   "outputs": [],
   "source": [
    "from datetime import datetime\n",
    "\n",
    "# obtiene la hora actual\n",
    "now = datetime.now() \n",
    "\n",
    "with open('my_journal.txt', 'a') as f:\n",
    "    f.write('\\n')     # comienza con una nueva línea\n",
    "    f.write(str(now)) # marca temporal\n",
    "    f.write('\\n\\n')   # inserta una línea en blanco\n",
    "    f.write(' ')      # espacio vacío\n",
    "    f.write(input())  # escribe una entrada en el diario desde el teclado\n",
    "    f.write('\\n\\n')   # termina con una línea en blanco"
   ]
  },
  {
   "cell_type": "markdown",
   "id": "04381cf3",
   "metadata": {},
   "source": [
    "Si tenemos una lista de cadenas y queremos escribir por orden cada cadena en el archivo, podemos utilizar el método writelines():"
   ]
  },
  {
   "cell_type": "code",
   "execution_count": 10,
   "id": "66898de7",
   "metadata": {},
   "outputs": [],
   "source": [
    "titles = ['Planeta del futuro\\n', 'Soluciones para un mundo sostenible\\n', \"La ciudad más contaminada del mundo\\n\"]\n",
    "\n",
    "with open('output.txt', 'w') as f:\n",
    "    f.writelines(titles)"
   ]
  },
  {
   "cell_type": "markdown",
   "id": "a636cb2d",
   "metadata": {},
   "source": [
    "Si queremos escribir cada cadena de la lista en su propia línea, cada una de ellas debe terminar con el carácter de nueva línea \\n.\n",
    "\n",
    "Archivos\n",
    "\n",
    "Los archivos zip se utilizan ampliamente para comprimir archivos o empaquetar archivos relacionados entre sí. Trabajar con archivos zip en Python es similar a trabajar con archivos. El paquete zipfile nos ayudará mucho con esta tarea:"
   ]
  },
  {
   "cell_type": "code",
   "execution_count": 12,
   "id": "4e34231c",
   "metadata": {},
   "outputs": [],
   "source": [
    "from zipfile import ZipFile\n",
    "\n",
    "with open(\"info.txt\", \"w\") as f:\n",
    "    f.write('algunos datos')\n",
    "    \n",
    "with ZipFile(\"archive.zip\", mode=\"w\") as archive:\n",
    "    archive.write(\"info.txt\")"
   ]
  },
  {
   "cell_type": "markdown",
   "id": "b1d256e1",
   "metadata": {},
   "source": [
    "Ahora tenemos un archivo zip con info.txt dentro. Podemos usar los modos 'r' y 'a' para leer y añadir archivos. El método printdir() se utiliza para listar el contenido de un archivo:"
   ]
  },
  {
   "cell_type": "code",
   "execution_count": 13,
   "id": "0542e080",
   "metadata": {},
   "outputs": [
    {
     "name": "stdout",
     "output_type": "stream",
     "text": [
      "File Name                                             Modified             Size\n",
      "info.txt                                       2025-04-25 18:34:44           13\n",
      "logs.txt                                       2025-04-25 18:34:48            7\n"
     ]
    }
   ],
   "source": [
    "from zipfile import ZipFile\n",
    "\n",
    "with open(\"logs.txt\", \"w\") as f:\n",
    "    f.write('new_log')\n",
    "\n",
    "with ZipFile(\"archive.zip\", mode=\"a\") as archive:\n",
    "    archive.write(\"logs.txt\")\n",
    "    archive.printdir()"
   ]
  },
  {
   "cell_type": "markdown",
   "id": "1d01c638",
   "metadata": {},
   "source": [
    "El texto se codifica en bytes cuando lo archivamos, así que necesitamos usar el método decode() para hacer que los humanos podamos leer cadenas directamente desde el archivo:"
   ]
  },
  {
   "cell_type": "code",
   "execution_count": 14,
   "id": "cdf1de35",
   "metadata": {},
   "outputs": [
    {
     "name": "stdout",
     "output_type": "stream",
     "text": [
      "new_log\n"
     ]
    }
   ],
   "source": [
    "with ZipFile(\"archive.zip\") as archive:\n",
    "    with archive.open(\"logs.txt\") as f:\n",
    "        print(f.read().decode())"
   ]
  },
  {
   "cell_type": "markdown",
   "id": "22a78b00",
   "metadata": {},
   "source": [
    "JSON\n",
    "\n",
    "JSON es un formato de almacenamiento y transferencia de datos universal que los humanos pueden leer, utilizado a menudo para manejar datos en aplicaciones web. Los archivos JSON son muy similares a los diccionarios de Python; se trata de un conjunto de pares clave-valor, que suelen tener muchas capas anidadas.\n",
    "\n",
    "Podemos utilizar la librería incorporada json para trabajar fácilmente con archivos .json.\n",
    "\n",
    "La convención dump/loads se utiliza cuando es necesario guardar/leer archivos .json."
   ]
  },
  {
   "cell_type": "code",
   "execution_count": null,
   "id": "cb00befa",
   "metadata": {},
   "outputs": [],
   "source": [
    "import json\n",
    "import requests # librería para obtener datos de internet\n",
    "\n",
    "# descargar (obtener) un archivo json de internet\n",
    "data = requests.get('https://dummyjson.com/products/1')\n",
    "\n",
    "# extraer el contenido del archivo json descargado\n",
    "text = data.text\n",
    "\n",
    "# análisis sintáctico del contenido mediante la función loads\n",
    "print(json.loads(text))\n"
   ]
  },
  {
   "cell_type": "markdown",
   "id": "136ad8d4",
   "metadata": {},
   "source": [
    "Es importante señalar cómo se ve data al utilizar requests.get() para descargar un archivo JSON desde '<https://dummyjson.com/products/1':"
   ]
  },
  {
   "cell_type": "markdown",
   "id": "1621649d",
   "metadata": {},
   "source": [
    "{'id': 1, 'title': 'Essence Mascara Lash Princess', 'description': 'The Essence Mascara Lash Princess is a popular mascara known for its volumizing and lengthening effects. Achieve dramatic lashes with this long-lasting and cruelty-free formula.', 'category': 'beauty', 'price': 9.99, 'discountPercentage': 7.17, 'rating': 4.94, 'stock': 5, 'tags': ['beauty', 'mascara'], 'brand': 'Essence', 'sku': 'RCH45Q1A', 'weight': 2, 'dimensions': {'width': 23.17, 'height': 14.43, 'depth': 28.01}, 'warrantyInformation': '1 month warranty', 'shippingInformation': 'Ships in 1 month', 'availabilityStatus': 'Low Stock', 'reviews': [{'rating': 2, 'comment': 'Very unhappy with my purchase!', 'date': '2024-05-23T08:56:21.618Z', 'reviewerName': 'John Doe', 'reviewerEmail': 'john.doe@x.dummyjson.com'}, {'rating': 2, 'comment': 'Not as described!', 'date': '2024-05-23T08:56:21.618Z', 'reviewerName': 'Nolan Gonzalez', 'reviewerEmail': 'nolan.gonzalez@x.dummyjson.com'}, {'rating': 5, 'comment': 'Very satisfied!', 'date': '2024-05-23T08:56:21.618Z', 'reviewerName': 'Scarlett Wright', 'reviewerEmail': 'scarlett.wright@x.dummyjson.com'}], 'returnPolicy': '30 days return policy', 'minimumOrderQuantity': 24, 'meta': {'createdAt': '2024-05-23T08:56:21.618Z', 'updatedAt': '2024-05-23T08:56:21.618Z', 'barcode': '9164035109868', 'qrCode': 'https://dummyjson.com/public/qr-code.png'}, 'images': ['https://cdn.dummyjson.com/products/images/beauty/Essence%20Mascara%20Lash%20Princess/1.png'], 'thumbnail': 'https://cdn.dummyjson.com/products/images/beauty/Essence%20Mascara%20Lash%20Princess/thumbnail.png'}"
   ]
  },
  {
   "cell_type": "markdown",
   "id": "c627fdf0",
   "metadata": {},
   "source": [
    "El texto parece tener la forma de una cadena; aunque se parece a un archivo JSON, se descarga como una cadena usando requests.get(). Por lo tanto, se requiere la función json.loads() para convertirlo (o analizarlo) en un archivo JSON real.\n",
    "\n",
    "Ahora vamos a ver cómo escribir algo en un archivo JSON:"
   ]
  },
  {
   "cell_type": "code",
   "execution_count": null,
   "id": "df52a30d",
   "metadata": {},
   "outputs": [],
   "source": [
    "import json\n",
    "\n",
    "# este es un diccionario que queremos escribir en un archivo JSON\n",
    "data = dict(user_id=12, status='active', user_name='Rachel')\n",
    "\n",
    "# creamos un archivo json en modo de escritura y volcamos nuestros datos allí\n",
    "with open ('output.json', 'w') as f:\n",
    "    json.dump(data, f)"
   ]
  },
  {
   "cell_type": "markdown",
   "id": "122facaa",
   "metadata": {},
   "source": [
    "YAML\n",
    "\n",
    "Este formato es especialmente útil para la transmisión de valores de configuración, ya que sigue una estructura de indentación similar a la de Python. YAML es un superconjunto de JSON, lo que significa que cualquier texto JSON es también un documento YAML válido, pero YAML suele ser más legible para los humanos. A continuación, te mostraremos cómo se ven un diccionario y una lista cuando se representan en archivos YAML. Para lograr esto, necesitaremos la librería yaml:"
   ]
  },
  {
   "cell_type": "code",
   "execution_count": null,
   "id": "bd0a0581",
   "metadata": {},
   "outputs": [],
   "source": [
    "import yaml\n",
    "\n",
    "# crear una lista de diccionarios\n",
    "data = [{'user_id': '1', 'age': 34},\n",
    "         {'user_id': '2', 'age': 37}]\n",
    "\n",
    "# volcar \n",
    "print(yaml.dump(data))\n",
    "\n",
    "# crear una lista\n",
    "var = [22, 23, 'root']\n",
    "\n",
    "# volcar\n",
    "print(yaml.dump(var))\n"
   ]
  },
  {
   "cell_type": "markdown",
   "id": "07b47e8a",
   "metadata": {},
   "source": [
    "- age: 34\n",
    "  user_id: '1'\n",
    "- age: 37\n",
    "  user_id: '2'\n",
    "\n",
    "- 22\n",
    "- 23\n",
    "- root"
   ]
  },
  {
   "cell_type": "markdown",
   "id": "5791b2a0",
   "metadata": {},
   "source": [
    "Ejercicio 1\n",
    "\n",
    "1.\n",
    "\n",
    "Crea un archivo llamado lines.txt y escribe el contenido de la lista dada como líneas separadas. Utiliza el método writelines().\n",
    "\n",
    "Recuerda que puedes escribir el contenido de una lista determinada en un archivo como líneas separadas usando el método .join() aplicado a una cadena que separa cada elemento de la lista. El método .join() espera la lista como entrada."
   ]
  },
  {
   "cell_type": "code",
   "execution_count": 18,
   "id": "3027020c",
   "metadata": {},
   "outputs": [],
   "source": [
    "# Usando write()\n",
    "lines = ['uno', 'dos', 'tres']\n",
    "\n",
    "with open('lines.txt', 'w') as f:\n",
    "    f.write('\\n'.join(lines))# escribe tu \n",
    "\n",
    "# Usando writelines()\n",
    "lines_2 = ['uno\\n', 'dos\\n', 'tres\\n']\n",
    "\n",
    "with open('line.text', 'w') as f:\n",
    "    f.writelines(lines_2)"
   ]
  },
  {
   "cell_type": "markdown",
   "id": "2057425a",
   "metadata": {},
   "source": [
    "uno\n",
    "\n",
    "dos\n",
    "\n",
    "tres"
   ]
  },
  {
   "cell_type": "markdown",
   "id": "05909763",
   "metadata": {},
   "source": [
    "2.\n",
    "\n",
    "El precódigo tiene un código que escribe el contenido de la lista dada como líneas separadas. Tu objetivo es leer el archivo lines.txt e imprimir líneas una por una. Recuerda que cada línea tiene un carácter de nueva línea, '\\n', el cual debes eliminar utilizando uno de los métodos que aprendiste."
   ]
  },
  {
   "cell_type": "code",
   "execution_count": null,
   "id": "a43435ea",
   "metadata": {},
   "outputs": [
    {
     "name": "stdout",
     "output_type": "stream",
     "text": [
      "uno\n",
      "dos\n",
      "tres\n",
      "\n",
      "uno\n",
      "dos\n",
      "tres\n"
     ]
    }
   ],
   "source": [
    "lines_3 = ['uno', 'dos', 'tres']\n",
    "\n",
    "with open('lines.txt', 'w') as f:\n",
    "    f.writelines('\\n'.join(lines_3))\n",
    "\n",
    "# escribe tu código aquí\n",
    "f = open('lines.txt')\n",
    "print(f.read())\n",
    "f.close()\n",
    "\n",
    "print() # este print solo crea una linea vacia como separador\n",
    "\n",
    "# Usando bloque with:\n",
    "with open('lines.txt') as f:\n",
    "    for line in f.readlines():\n",
    "        print(line.rstrip())"
   ]
  },
  {
   "cell_type": "markdown",
   "id": "bdee8f2e",
   "metadata": {},
   "source": [
    "Ejercicio 3\n",
    "\n",
    "En esta tarea trabajarás con archivos JSON.\n",
    "\n",
    "En el precódigo descargamos los datos usando la librería requests. Usamos esta URL para descargar los datos: https://dummyjson.com/products/category/smartphones. Una vez descargados, extrajimos el cuerpo principal de la respuesta usando el atributo .text de la misma.\n",
    "\n",
    "Ahora es tu momento de brillar. Analiza los datos descargados como un archivo JSON: puedes utilizar la librería json y su función apropiada. Almacena los datos analizados en la variable json_data. Puedes hacerlo con json_data como con un diccionario Python normal.\n",
    "\n",
    "Ahora, extrae la lista de productos de json_data y guárdala en la variable products. Esta lista se almacena como un valor, que puedes extraer utilizando la clave 'products'.\n",
    "\n",
    "A continuación, verás que hemos creado una lista vacía llamada items; además, hemos inicializado la variable brand para almacenar el valor 'Samsung'.\n",
    "\n",
    "Tu objetivo es recorrer la lista products. Cada entrada en products es un diccionario. Extrae el nombre de la marca usando la clave 'brand' y, si coincide con el valor de la variable brand, agrega la entrada completa a la lista items.\n",
    "\n",
    "Al final, crea un archivo 'samsung_items.json' y guarda items en él."
   ]
  },
  {
   "cell_type": "code",
   "execution_count": null,
   "id": "7918fe7a",
   "metadata": {},
   "outputs": [
    {
     "name": "stdout",
     "output_type": "stream",
     "text": [
      "Collecting requests\n",
      "  Downloading requests-2.32.3-py3-none-any.whl.metadata (4.6 kB)\n",
      "Collecting charset-normalizer<4,>=2 (from requests)\n",
      "  Downloading charset_normalizer-3.4.1-cp311-cp311-win_amd64.whl.metadata (36 kB)\n",
      "Collecting idna<4,>=2.5 (from requests)\n",
      "  Downloading idna-3.10-py3-none-any.whl.metadata (10 kB)\n",
      "Collecting urllib3<3,>=1.21.1 (from requests)\n",
      "  Downloading urllib3-2.4.0-py3-none-any.whl.metadata (6.5 kB)\n",
      "Collecting certifi>=2017.4.17 (from requests)\n",
      "  Downloading certifi-2025.1.31-py3-none-any.whl.metadata (2.5 kB)\n",
      "Downloading requests-2.32.3-py3-none-any.whl (64 kB)\n",
      "Downloading certifi-2025.1.31-py3-none-any.whl (166 kB)\n",
      "Downloading charset_normalizer-3.4.1-cp311-cp311-win_amd64.whl (102 kB)\n",
      "Downloading idna-3.10-py3-none-any.whl (70 kB)\n",
      "Downloading urllib3-2.4.0-py3-none-any.whl (128 kB)\n",
      "Installing collected packages: urllib3, idna, charset-normalizer, certifi, requests\n",
      "Successfully installed certifi-2025.1.31 charset-normalizer-3.4.1 idna-3.10 requests-2.32.3 urllib3-2.4.0\n",
      "Note: you may need to restart the kernel to use updated packages.\n"
     ]
    }
   ],
   "source": [
    "# Instala la libreria requests por que no la tenia el proyecto\n",
    "%pip install requests"
   ]
  },
  {
   "cell_type": "code",
   "execution_count": 30,
   "id": "dc287541",
   "metadata": {},
   "outputs": [
    {
     "name": "stdout",
     "output_type": "stream",
     "text": [
      "Nombre: Samsung Galaxy S7\n",
      "Precio: $299.99\n",
      "Descripcion: The Samsung Galaxy S7 is a flagship smartphone known for its sleek design and advanced features. It features a high-resolution display, powerful camera, and robust performance.\n",
      "----------------------------------------\n",
      "Nombre: Samsung Galaxy S8\n",
      "Precio: $499.99\n",
      "Descripcion: The Samsung Galaxy S8 is a premium smartphone with an Infinity Display, offering a stunning visual experience. It boasts advanced camera capabilities and cutting-edge technology.\n",
      "----------------------------------------\n",
      "Nombre: Samsung Galaxy S10\n",
      "Precio: $699.99\n",
      "Descripcion: The Samsung Galaxy S10 is a flagship device featuring a dynamic AMOLED display, versatile camera system, and powerful performance. It represents innovation and excellence in smartphone technology.\n",
      "----------------------------------------\n"
     ]
    }
   ],
   "source": [
    "#import json Esta libreria ya se habia importado, se\n",
    "import requests\n",
    "\n",
    "# obtener datos de internet\n",
    "response = requests.get('https://dummyjson.com/products/category/smartphones')\n",
    "text = response.text\n",
    "\n",
    "#utilizar la librería json y su función apropiada. \n",
    "# Almacena los datos analizados en la variable json_data. \n",
    "# Puedes hacerlo con json_data como con un diccionario Python normal.\n",
    "\n",
    "#extrae la lista de productos de json_data y \n",
    "# guárdala en la variable products. \n",
    "# Esta lista se almacena como un valor, \n",
    "# que puedes extraer utilizando la clave 'products'.\n",
    "json_data = json.loads(text)# escribe tu código aquí\n",
    "products = json_data['products']# escribe tu código aquí. Utiliza la clave 'products'\n",
    "\n",
    "items = []\n",
    "brand = 'Samsung'\n",
    "\n",
    "#recorrer la lista products. \n",
    "# Cada entrada en products es un diccionario. \n",
    "# Extrae el nombre de la marca usando la clave 'brand' \n",
    "# y, si coincide con el valor de la variable brand, \n",
    "# agrega la entrada completa a la lista items.\n",
    "\n",
    "#Al final, crea un archivo 'samsung_items.json' \n",
    "# y guarda items en él.\n",
    "for entry in products:\n",
    "\tif entry['brand'] == brand:\n",
    "\t\titems.append(entry)# escribe tu código\n",
    "\n",
    "with open('samsung_items.json', 'w') as f:\n",
    "\tjson.dump(items, f, indent=4)# escribe tu código\n",
    "\n",
    "# Abrir y cargar archivo JSON\n",
    "with open('samsung_items.json', 'r') as f:\n",
    "\tsamsung_products = json.load(f)\n",
    "\n",
    "# Imprimir los archivos\n",
    "for product in samsung_products:\n",
    "\tprint(f\"Nombre: {product['title']}\")\n",
    "\tprint(f\"Precio: ${product['price']}\")\n",
    "\tprint(f\"Descripcion: {product['description']}\")\n",
    "\tprint('-' * 40)\n",
    "\n",
    "\n"
   ]
  },
  {
   "cell_type": "code",
   "execution_count": null,
   "id": "ddf7ee61",
   "metadata": {},
   "outputs": [],
   "source": []
  }
 ],
 "metadata": {
  "kernelspec": {
   "display_name": "Python 3",
   "language": "python",
   "name": "python3"
  },
  "language_info": {
   "codemirror_mode": {
    "name": "ipython",
    "version": 3
   },
   "file_extension": ".py",
   "mimetype": "text/x-python",
   "name": "python",
   "nbconvert_exporter": "python",
   "pygments_lexer": "ipython3",
   "version": "3.11.11"
  }
 },
 "nbformat": 4,
 "nbformat_minor": 5
}
