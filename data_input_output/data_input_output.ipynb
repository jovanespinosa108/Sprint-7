{
 "cells": [
  {
   "cell_type": "markdown",
   "id": "92fc6967",
   "metadata": {},
   "source": [
    "INPUT OUTPUT DATA\n",
    "\n",
    "Si alguna vez has utilizado una computadora, deberías saber qué son los archivos. Básicamente, los archivos son fragmentos de información o datos que guardamos para almacenarlos a largo plazo y reutilizarlos más tarde. Independientemente del tipo de archivo, en el fondo, todos los archivos están codificados en bits. La estructura de codificación depende del tipo de archivo. Para representar los distintos tipos de archivos, utilizamos extensiones de nombres de archivo, ya sea .txt, .py, .jpeg o cualquier otra.\n",
    "\n",
    "A menudo necesitamos que nuestros programas Python lean datos de archivos externos, editen archivos existentes o creen archivos nuevos. Ya hemos leído muchos archivos con la función read_csv() de Pandas. En esta lección, aprenderemos cómo se pueden abrir archivos y trabajar con ellos (entrada y salida de archivos, o E/S de archivos para abreviar) en Python de una manera más general.\n",
    "\n",
    "Nuestros ejemplos en esta lección se centrarán en archivos de texto, ya que son ampliamente utilizados para almacenar y transferir datos.\n",
    "\n",
    "Leer desde archivos\n",
    "\n",
    "Python tiene una función incorporada open() que puede abrir cualquier archivo. Todo lo que necesitamos hacer es pasar la ruta hacia el archivo a la función. Por defecto, los archivos se abren en modo “lectura”, lo que significa que podemos obtener información de los mismos, pero no podemos editarlos."
   ]
  },
  {
   "cell_type": "code",
   "execution_count": 2,
   "id": "1847100c",
   "metadata": {},
   "outputs": [],
   "source": [
    "f =open('my_file.txt', mode='r')"
   ]
  },
  {
   "cell_type": "markdown",
   "id": "1c7a3235",
   "metadata": {},
   "source": [
    "Así es como se ve el contenido de my_file.txt:\n",
    "\n",
    "\"No entres dócilmente en esa buena noche\"\n",
    "[12, 13, 14]\n",
    "100.42\n",
    "Alice\n",
    "\n",
    "pero esto es lo que obtendremos al imprimir f:"
   ]
  },
  {
   "cell_type": "code",
   "execution_count": 3,
   "id": "00499a05",
   "metadata": {},
   "outputs": [
    {
     "name": "stdout",
     "output_type": "stream",
     "text": [
      "<_io.TextIOWrapper name='my_file.txt' mode='r' encoding='utf-8'>\n"
     ]
    }
   ],
   "source": [
    "f = open('my_file.txt')\n",
    "print(f)\n",
    "f.close()"
   ]
  },
  {
   "cell_type": "markdown",
   "id": "22365cb1",
   "metadata": {},
   "source": [
    "La salida actual puede no ser la esperada, lo cual se debe a que la variable f, que representa el archivo abierto, es un objeto que requiere código adicional para leer su contenido. Por sí solo no puede hacer mucho, por lo tanto, necesitamos escribir código adicional para leer el contenido del archivo.\n",
    "\n",
    "Al abrir un archivo se crea un objeto de tipo file:"
   ]
  },
  {
   "cell_type": "code",
   "execution_count": 4,
   "id": "aa266f46",
   "metadata": {},
   "outputs": [
    {
     "name": "stdout",
     "output_type": "stream",
     "text": [
      "<class '_io.TextIOWrapper'>\n"
     ]
    }
   ],
   "source": [
    "f = open('my_file.txt')\n",
    "print(type(f))\n",
    "f.close()"
   ]
  },
  {
   "cell_type": "markdown",
   "id": "72dabcad",
   "metadata": {},
   "source": [
    "Ten en cuenta que también usamos el método close() para cerrar el archivo después de que hayamos terminado con él. Cerrar archivos cuando ya no se necesitan es una buena costumbre, de lo contrario ocupan memoria y pueden provocar problemas imprevistos.\n",
    "\n",
    "Ahora vamos a leer nuestro archivo y mostrar su contenido. Una forma de hacerlo es recorrer cada línea del archivo e imprimir cada una de ellas:"
   ]
  },
  {
   "cell_type": "code",
   "execution_count": 5,
   "id": "fdf03314",
   "metadata": {},
   "outputs": [
    {
     "name": "stdout",
     "output_type": "stream",
     "text": [
      "\"No entres dócilmente en esa buena noche\"\n",
      "\n",
      "[12, 13, 14]\n",
      "\n",
      "100.42\n",
      "\n",
      "Alice\n"
     ]
    }
   ],
   "source": [
    "f = open('my_file.txt')\n",
    "\n",
    "for line in f:\n",
    "    print(line)\n",
    "\n",
    "f.close()"
   ]
  },
  {
   "cell_type": "markdown",
   "id": "8b6f6a56",
   "metadata": {},
   "source": [
    "Imprimimos todo el contenido, pero había líneas en blanco extra que no estaban en el archivo original. Esto se debe a que el final de cada línea en my_file.txt termina con el carácter de nueva línea \\\\n y, por defecto, print() termina cada salida con un carácter de nueva línea también. Podemos arreglar esto usando en cada línea el método rstrip(), que elimina todos los espacios en blanco al final de una cadena:"
   ]
  },
  {
   "cell_type": "code",
   "execution_count": 6,
   "id": "0a19caf6",
   "metadata": {},
   "outputs": [
    {
     "name": "stdout",
     "output_type": "stream",
     "text": [
      "\"No entres dócilmente en esa buena noche\"\n",
      "[12, 13, 14]\n",
      "100.42\n",
      "Alice\n"
     ]
    }
   ],
   "source": [
    "f = open('my_file.txt')\n",
    "\n",
    "for line in f:\n",
    "    print(line.rstrip())\n",
    "\n",
    "f.close()"
   ]
  },
  {
   "cell_type": "markdown",
   "id": "52256bee",
   "metadata": {},
   "source": [
    "El método anterior funciona, pero también podemos utilizar los métodos read() o readlines() para conseguir el mismo objetivo. El método read() lee todo el archivo como una sola cadena, mientras que el método readlines() crea una lista de cadenas, donde cada elemento de la lista es una línea del archivo:"
   ]
  },
  {
   "cell_type": "code",
   "execution_count": 7,
   "id": "3bc41667",
   "metadata": {},
   "outputs": [
    {
     "name": "stdout",
     "output_type": "stream",
     "text": [
      "\"No entres dócilmente en esa buena noche\"\n",
      "[12, 13, 14]\n",
      "100.42\n",
      "Alice\n"
     ]
    }
   ],
   "source": [
    "f = open('my_file.txt')\n",
    "print(f.read())\n",
    "\n",
    "f.close()"
   ]
  },
  {
   "cell_type": "code",
   "execution_count": null,
   "id": "416c8621",
   "metadata": {},
   "outputs": [],
   "source": []
  }
 ],
 "metadata": {
  "kernelspec": {
   "display_name": "Python 3",
   "language": "python",
   "name": "python3"
  },
  "language_info": {
   "codemirror_mode": {
    "name": "ipython",
    "version": 3
   },
   "file_extension": ".py",
   "mimetype": "text/x-python",
   "name": "python",
   "nbconvert_exporter": "python",
   "pygments_lexer": "ipython3",
   "version": "3.11.11"
  }
 },
 "nbformat": 4,
 "nbformat_minor": 5
}
