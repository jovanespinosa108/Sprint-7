{
 "cells": [
  {
   "cell_type": "markdown",
   "id": "5937997c-30fc-46fb-8573-7af3a2628a32",
   "metadata": {},
   "source": [
    "Funciones\n",
    "\r\n",
    "En el curso de Python básico aprendiste sobre las funciones de Python. Esta lección tiene dos objetivos:\r\n",
    "\r\n",
    "Recapitular conceptos básicos relacionados con funciones, tales como el alcance de las variables y los diferentes tipos de argumentos.\r\n",
    "Introducir el concepto de sugerencias de tipo, su propósito y uso."
   ]
  },
  {
   "cell_type": "markdown",
   "id": "f972cbfd-66b7-412f-a85e-439516a8358e",
   "metadata": {},
   "source": [
    "## Resumen de funciones\n",
    "\r\n",
    "Alcance de la variabl\n",
    "e\r\n",
    "El alcance de una variable es el área dentro de un programa donde se puede acceder a la misma. Hay tres alcances a tener en cuenta cuando codificamos en Python:\r\n",
    "\r\n",
    "Alcance local: si haces referencia a una variable dentro de una función, el intérprete buscará primero el nombre de esa variable dentro de la definición de esa func\n",
    "ión.\r\n",
    "Alcance global: si el intérprete no encuentra la variable dentro del alcance local, la buscará en el alcance global (es decir, en otras partes del programa fuera de las funcio\n",
    "nes).\r\n",
    "Alcance integrado: por último, si el intérprete no encuentra la variable ni en el ámbito local ni en el global, la buscará en el ámbito integrado de P\n",
    "ython.\r\n",
    "Veamos algunos ejemplos de cada tipo de alcance.\r\n",
    "\r\n",
    "Alca\n",
    "nce local\r\n",
    "Vamos a crear un script que incluya una función con algunas variables:"
   ]
  },
  {
   "cell_type": "code",
   "execution_count": 5,
   "id": "aa1436a8-7a28-4f04-b916-da187afa8dc7",
   "metadata": {},
   "outputs": [
    {
     "name": "stdout",
     "output_type": "stream",
     "text": [
      "Precio total: 44.0\n"
     ]
    }
   ],
   "source": [
    "# my_func.py\n",
    "product_price = 12.0\n",
    "product_qty = 5\n",
    "\n",
    "def total_price():\n",
    "    product_price = 11.0\n",
    "    product_qty = 4\n",
    "    print(f'Precio total: {product_price * product_qty}')\n",
    "\n",
    "total_price()"
   ]
  },
  {
   "cell_type": "markdown",
   "id": "794ad8cd-39dd-4789-8242-4ecb8adda060",
   "metadata": {},
   "source": [
    "Observa que hay variables product_price y product_qty tanto dentro como fuera de la función. Al ejecutar un script, el intérprete utiliza los valores product_price y product_qty del alcance local (dentro de la función), aunque estas variables también existen en el alcance global (fuera de la función).\r\n",
    "\r\n",
    "Alcance global"
   ]
  },
  {
   "cell_type": "code",
   "execution_count": 7,
   "id": "51aa95d9-9f61-4971-a124-6116ce4325d3",
   "metadata": {},
   "outputs": [
    {
     "name": "stdout",
     "output_type": "stream",
     "text": [
      "Precio total: 60.0\n"
     ]
    }
   ],
   "source": [
    "def total_price():\n",
    "    print(f'Precio total: {product_price * product_qty}')\n",
    "\n",
    "total_price()"
   ]
  },
  {
   "cell_type": "markdown",
   "id": "e8dc38f8-ad9a-46be-9a30-5aedd75478bd",
   "metadata": {},
   "source": [
    "Las variables product_price y product_qty no están definidas en el alcance local de la función, por lo que el intérprete pasa al alcance global de my_func.py para encontrarlas.\r\n",
    "\r\n",
    "Alcance integrado\r\n"
   ]
  },
  {
   "cell_type": "code",
   "execution_count": 9,
   "id": "ae18ee1a-5efc-4a96-a4eb-3c8b662f7c84",
   "metadata": {},
   "outputs": [
    {
     "ename": "NameError",
     "evalue": "name 'price' is not defined",
     "output_type": "error",
     "traceback": [
      "\u001b[1;31m---------------------------------------------------------------------------\u001b[0m",
      "\u001b[1;31mNameError\u001b[0m                                 Traceback (most recent call last)",
      "Cell \u001b[1;32mIn[9], line 4\u001b[0m\n\u001b[0;32m      1\u001b[0m \u001b[38;5;28;01mdef\u001b[39;00m \u001b[38;5;21mtotal_price\u001b[39m():\n\u001b[0;32m      2\u001b[0m     \u001b[38;5;28mprint\u001b[39m(\u001b[38;5;124mf\u001b[39m\u001b[38;5;124m'\u001b[39m\u001b[38;5;124mPrecio total: \u001b[39m\u001b[38;5;132;01m{\u001b[39;00mprice\u001b[38;5;250m \u001b[39m\u001b[38;5;241m*\u001b[39m\u001b[38;5;250m \u001b[39mqty\u001b[38;5;132;01m}\u001b[39;00m\u001b[38;5;124m'\u001b[39m)\n\u001b[1;32m----> 4\u001b[0m total_price()\n",
      "Cell \u001b[1;32mIn[9], line 2\u001b[0m, in \u001b[0;36mtotal_price\u001b[1;34m()\u001b[0m\n\u001b[0;32m      1\u001b[0m \u001b[38;5;28;01mdef\u001b[39;00m \u001b[38;5;21mtotal_price\u001b[39m():\n\u001b[1;32m----> 2\u001b[0m     \u001b[38;5;28mprint\u001b[39m(\u001b[38;5;124mf\u001b[39m\u001b[38;5;124m'\u001b[39m\u001b[38;5;124mPrecio total: \u001b[39m\u001b[38;5;132;01m{\u001b[39;00mprice\u001b[38;5;250m \u001b[39m\u001b[38;5;241m*\u001b[39m\u001b[38;5;250m \u001b[39mqty\u001b[38;5;132;01m}\u001b[39;00m\u001b[38;5;124m'\u001b[39m)\n",
      "\u001b[1;31mNameError\u001b[0m: name 'price' is not defined"
     ]
    }
   ],
   "source": [
    "def total_price():\n",
    "    print(f'Precio total: {price * qty}')\n",
    "\n",
    "total_price()"
   ]
  },
  {
   "cell_type": "markdown",
   "id": "1186bedf-32cb-404a-b753-bd1f03f43f2f",
   "metadata": {},
   "source": [
    "Ni price ni qty existen en el alcance integrado, global o local, por lo que el intérprete lanza un error. La documentación de Python contiene las listas completas de nombres para las funciones integradas y las constantes integradas.\r\n",
    "\r\n",
    "Para evitar problemas de alcance en tu código, es una buena práctica escribir funciones que no dependan de variables definidas fuera de la función. Si tu función necesita usar una variable que no es su parámetro, intenta crear la variable dentro del cuerpo de esta función."
   ]
  },
  {
   "cell_type": "markdown",
   "id": "48ad56c7-cd7d-4ad4-93ef-c73a52e18250",
   "metadata": {},
   "source": [
    "Tipos de argumentos de función\n",
    "\r\n",
    "Argumentos posicionale\n",
    "s\r\n",
    "Los argumentos posicionales son argumentos de una función que deben pasarse en un orden específico. Al llamar a una función definida con argumentos posicionales, debemos pasar los valores de los argumentos exactamente en el mismo orden en que se definieron."
   ]
  },
  {
   "cell_type": "code",
   "execution_count": 14,
   "id": "c9fdef67-743d-456c-af04-e2b4c99efec9",
   "metadata": {},
   "outputs": [
    {
     "name": "stdout",
     "output_type": "stream",
     "text": [
      "Un viaje de A a B costará $59.59714285714285\n"
     ]
    }
   ],
   "source": [
    "# my_func.py\n",
    "def trip_price(dist_miles, mpg, price, loc_from, loc_to):\n",
    "        total_price = dist_miles * price / mpg\n",
    "        print(f'Un viaje de {loc_from} a {loc_to} costará ${total_price}')\n",
    "\n",
    "trip_price(409, 35, 5.1, 'A', 'B')"
   ]
  },
  {
   "cell_type": "markdown",
   "id": "f94cf806-49b0-45b4-b56f-1b63a84aad82",
   "metadata": {},
   "source": [
    "De lo contrario, obtendremos un error o, según la definición y el uso de la función, un valor de retorno incorrecto. En el ejemplo anterior, 409 es dist_miles, 35 es mpg y 5.1 es el price.\r\n",
    "\r\n",
    "Si cambiamos el orden, es muy probable que encontremos un error."
   ]
  },
  {
   "cell_type": "code",
   "execution_count": 16,
   "id": "faa155bc-a23f-4b21-b9b6-1a69a5e84f85",
   "metadata": {},
   "outputs": [
    {
     "ename": "TypeError",
     "evalue": "unsupported operand type(s) for /: 'str' and 'str'",
     "output_type": "error",
     "traceback": [
      "\u001b[1;31m---------------------------------------------------------------------------\u001b[0m",
      "\u001b[1;31mTypeError\u001b[0m                                 Traceback (most recent call last)",
      "Cell \u001b[1;32mIn[16], line 5\u001b[0m\n\u001b[0;32m      2\u001b[0m     total_price \u001b[38;5;241m=\u001b[39m dist_miles \u001b[38;5;241m*\u001b[39m price \u001b[38;5;241m/\u001b[39m mpg\n\u001b[0;32m      3\u001b[0m     \u001b[38;5;28mprint\u001b[39m(\u001b[38;5;124mf\u001b[39m\u001b[38;5;124m'\u001b[39m\u001b[38;5;124mUn viaje de \u001b[39m\u001b[38;5;132;01m{\u001b[39;00mloc_from\u001b[38;5;132;01m}\u001b[39;00m\u001b[38;5;124m a \u001b[39m\u001b[38;5;132;01m{\u001b[39;00mloc_to\u001b[38;5;132;01m}\u001b[39;00m\u001b[38;5;124m costará $\u001b[39m\u001b[38;5;132;01m{\u001b[39;00mtotal_price\u001b[38;5;132;01m}\u001b[39;00m\u001b[38;5;124m'\u001b[39m)\n\u001b[1;32m----> 5\u001b[0m trip_price(\u001b[38;5;124m'\u001b[39m\u001b[38;5;124mA\u001b[39m\u001b[38;5;124m'\u001b[39m, \u001b[38;5;124m'\u001b[39m\u001b[38;5;124mB\u001b[39m\u001b[38;5;124m'\u001b[39m, \u001b[38;5;241m409\u001b[39m, \u001b[38;5;241m35\u001b[39m, \u001b[38;5;241m5.1\u001b[39m)\n",
      "Cell \u001b[1;32mIn[16], line 2\u001b[0m, in \u001b[0;36mtrip_price\u001b[1;34m(dist_miles, mpg, price, loc_from, loc_to)\u001b[0m\n\u001b[0;32m      1\u001b[0m \u001b[38;5;28;01mdef\u001b[39;00m \u001b[38;5;21mtrip_price\u001b[39m(dist_miles, mpg, price, loc_from, loc_to):\n\u001b[1;32m----> 2\u001b[0m     total_price \u001b[38;5;241m=\u001b[39m dist_miles \u001b[38;5;241m*\u001b[39m price \u001b[38;5;241m/\u001b[39m mpg\n\u001b[0;32m      3\u001b[0m     \u001b[38;5;28mprint\u001b[39m(\u001b[38;5;124mf\u001b[39m\u001b[38;5;124m'\u001b[39m\u001b[38;5;124mUn viaje de \u001b[39m\u001b[38;5;132;01m{\u001b[39;00mloc_from\u001b[38;5;132;01m}\u001b[39;00m\u001b[38;5;124m a \u001b[39m\u001b[38;5;132;01m{\u001b[39;00mloc_to\u001b[38;5;132;01m}\u001b[39;00m\u001b[38;5;124m costará $\u001b[39m\u001b[38;5;132;01m{\u001b[39;00mtotal_price\u001b[38;5;132;01m}\u001b[39;00m\u001b[38;5;124m'\u001b[39m)\n",
      "\u001b[1;31mTypeError\u001b[0m: unsupported operand type(s) for /: 'str' and 'str'"
     ]
    }
   ],
   "source": [
    "def trip_price(dist_miles, mpg, price, loc_from, loc_to):\n",
    "    total_price = dist_miles * price / mpg\n",
    "    print(f'Un viaje de {loc_from} a {loc_to} costará ${total_price}')\n",
    "\n",
    "trip_price('A', 'B', 409, 35, 5.1)"
   ]
  },
  {
   "cell_type": "markdown",
   "id": "807e0ea3-39a1-4139-a69c-1819bb7425d1",
   "metadata": {},
   "source": [
    "Argumentos de palabras clave\n",
    "\r\n",
    "Podemos llamar a una función con argumentos de palabras clave. En este caso, debemos pasar los nombres de los argumentos junto con sus valores. Esto nos obliga a escribir un poco más de código a la hora de llamar a una función, pero también nos da la flexibilidad de pasar los argumentos en el orden que queramos."
   ]
  },
  {
   "cell_type": "code",
   "execution_count": 20,
   "id": "e0e5eb0a-97ea-4245-ba54-6afef12be922",
   "metadata": {},
   "outputs": [
    {
     "name": "stdout",
     "output_type": "stream",
     "text": [
      "Un viaje de A a B costará $59.59714285714285\n"
     ]
    }
   ],
   "source": [
    " #my_func.py\n",
    "def trip_price(dist_miles, mpg, price, loc_from, loc_to):\n",
    "    total_price = dist_miles * price / mpg\n",
    "    print(f'Un viaje de {loc_from} a {loc_to} costará ${total_price}')\n",
    "\n",
    "trip_price(dist_miles=409, loc_from='A', loc_to='B', mpg=35, price=5.1)"
   ]
  },
  {
   "cell_type": "markdown",
   "id": "7077f04f-cb94-4e91-a7e0-147da09c5756",
   "metadata": {},
   "source": [
    "Ahora tiene un argumento y su valor correspondiente junto a él.\r\n",
    "\r\n",
    "Combinación de argumentos posicionales y de palabras cla\n",
    "ve\r\n",
    "Podemos combinar los argumentos posicionales y de palabras clave al llamar a una función, siempre que empecemos primero por los argumentos posicionales.\r\n",
    "\r\n",
    "Si anteponemos un argumento de palabra clave a un argumento posicional, se producirá un SyntaxError:"
   ]
  },
  {
   "cell_type": "code",
   "execution_count": 22,
   "id": "6b6600f1-b647-4774-8cdc-53a08c87f974",
   "metadata": {},
   "outputs": [
    {
     "ename": "SyntaxError",
     "evalue": "positional argument follows keyword argument (4019995184.py, line 6)",
     "output_type": "error",
     "traceback": [
      "\u001b[1;36m  Cell \u001b[1;32mIn[22], line 6\u001b[1;36m\u001b[0m\n\u001b[1;33m    trip_price(loc_from='Boston', loc_to='New York', price=5.1, 409, 35)\u001b[0m\n\u001b[1;37m                                                                       ^\u001b[0m\n\u001b[1;31mSyntaxError\u001b[0m\u001b[1;31m:\u001b[0m positional argument follows keyword argument\n"
     ]
    }
   ],
   "source": [
    "# my_func.py\n",
    "def trip_price(dist_miles, mpg, price, loc_from, loc_to):\n",
    "    total_price = dist_miles * price / mpg\n",
    "    print(f'Un viaje de {loc_from} a {loc_to} costará ${total_price}')\n",
    "\n",
    "trip_price(loc_from='Boston', loc_to='New York', price=5.1, 409, 35)"
   ]
  },
  {
   "cell_type": "markdown",
   "id": "cd8bf5b0-98f5-4b13-83ef-97a3d527618b",
   "metadata": {},
   "source": [
    "Si pasamos primero todos los argumentos posicionales, el script se ejecutará sin errores:"
   ]
  },
  {
   "cell_type": "code",
   "execution_count": 24,
   "id": "45a37807-53f3-48a9-92af-4111b7b9aa26",
   "metadata": {},
   "outputs": [
    {
     "name": "stdout",
     "output_type": "stream",
     "text": [
      "Un viaje de Boston a New York costará $59.59714285714285\n"
     ]
    }
   ],
   "source": [
    "# my_func.py\n",
    "def trip_price(dist_miles, mpg, price, loc_from, loc_to):\n",
    "    total_price = dist_miles * price / mpg\n",
    "    print(f'Un viaje de {loc_from} a {loc_to} costará ${total_price}')\n",
    "\n",
    "trip_price(409, 35, loc_from='Boston', loc_to='New York', price=5.1)"
   ]
  },
  {
   "cell_type": "markdown",
   "id": "501e35e3-e0f6-4309-99a2-8194ba7972a3",
   "metadata": {},
   "source": [
    "Argumentos predeterminados\n",
    "\r\n",
    "Podemos establecer valores por defecto para cualquiera de los parámetros al definir nuestra función. Estos valores por defecto se utilizarán si llamamos a la función sin pasarle argumentos para esos parámetros."
   ]
  },
  {
   "cell_type": "code",
   "execution_count": 26,
   "id": "b44f84c8-b3cd-4823-b0e4-52542dda1342",
   "metadata": {},
   "outputs": [
    {
     "name": "stdout",
     "output_type": "stream",
     "text": [
      "Un viaje de A a B costará $44.40571428571428\n"
     ]
    }
   ],
   "source": [
    "# my_func.py\n",
    "def trip_price(dist_miles, mpg, price, loc_from='A', loc_to='B'):\n",
    "    total_price = dist_miles * price / mpg\n",
    "    print(f'Un viaje de {loc_from} a {loc_to} costará ${total_price}')\n",
    "\n",
    "trip_price(409, 35, price=3.8)"
   ]
  },
  {
   "cell_type": "markdown",
   "id": "df905c8e-a422-43f4-bcaa-1b5626bdc013",
   "metadata": {},
   "source": [
    "Ten en cuenta que cuando definimos una función con parámetros cuyos valores están predeterminados, tenemos que poner todos ellos después de los parámetros que no tienen valores predeterminados en la definición de nuestra función; de lo contrario, se producirá un error:"
   ]
  },
  {
   "cell_type": "code",
   "execution_count": 28,
   "id": "468a1c33-7b80-482d-a733-b6fcbda921c1",
   "metadata": {},
   "outputs": [
    {
     "ename": "SyntaxError",
     "evalue": "non-default argument follows default argument (2713237229.py, line 2)",
     "output_type": "error",
     "traceback": [
      "\u001b[1;36m  Cell \u001b[1;32mIn[28], line 2\u001b[1;36m\u001b[0m\n\u001b[1;33m    def trip_price(loc_to='B', dist_miles, mpg, price, loc_from='A'):\u001b[0m\n\u001b[1;37m                               ^\u001b[0m\n\u001b[1;31mSyntaxError\u001b[0m\u001b[1;31m:\u001b[0m non-default argument follows default argument\n"
     ]
    }
   ],
   "source": [
    "# my_func.py\n",
    "def trip_price(loc_to='B', dist_miles, mpg, price, loc_from='A'):\n",
    "    total_price = dist_miles * price / mpg\n",
    "    print(f'Un viaje de {loc_from} a {loc_to} costará ${total_price}')\n",
    "\n",
    "trip_price(409, 35, price=3.8)"
   ]
  },
  {
   "cell_type": "markdown",
   "id": "2197e104-bad3-40b6-8e7e-3d497e3a73b6",
   "metadata": {},
   "source": [
    "Pregunta\r\n",
    "\r\n",
    "¿Qué hará el intérprete a continuación si la implementación de una función usa variables que no están presentes en el alcance local?\r\n",
    "\r\n",
    "Lanzará un eror.\r\n",
    "\r\n",
    "No, buscará la variable en un alcance diferente.\r\n",
    "\r\n",
    "Buscará estos nombres de variables en el alcance inegrado.\r\n",
    "\r\n",
    "No, buscará la variable en un alcance di### ferente.\r\n",
    "\r\n",
    "Buscará estos nombres de variables en el alcnce global.\r\n",
    "\r\n",
    "¡Exacto!\r\n",
    "\r\n",
    "¡Tu comprensión del material e\n",
    "s impresionante!\r\n",
    "Pregunta\r\n",
    "\r\n",
    "¿Cuál de estas opciones no producirá ningún error al llamar a una f### unción en Python?\r\n",
    "\r\n",
    "Pasar argumentos de palabra clav en cualquier orden.\r\n",
    "\r\n",
    "Sí, no dará como resultado un error. Podemos pasar argumentos de palabras clave como queramos.\r\n",
    "\r\n",
    "Pasar argumentos posicioales en cualquier orden.\r\n",
    "\r\n",
    "Ups, habrá un error en este caso.\r\n",
    "\r\n",
    "Combinar argumentos posicionales y de palara clave en cualquier orden.\r\n",
    "\r\n",
    "Ups, habrá un error en este caso."
   ]
  },
  {
   "cell_type": "markdown",
   "id": "6e475d5e-6958-409e-a37b-3b5e3f43805e",
   "metadata": {},
   "source": [
    "Comprobación de tipo y sugerencias de tipo\n",
    "\n",
    "Python es un lenguaje de tipado dinámico. En pocas palabras, el intérprete de Python no comprueba la validez de ninguna operación hasta que dicha operación se ejecuta. Python no sabe de antemano si una operación está permitida o no porque desconoce los tipos de datos de los valores hasta que los usa.\n",
    "\n",
    "Los siguientes ejemplos lo demuestran:\n",
    "\n"
   ]
  },
  {
   "cell_type": "code",
   "execution_count": 31,
   "id": "9a906314-4fe7-40de-8a0f-b89dcb922fef",
   "metadata": {},
   "outputs": [
    {
     "ename": "TypeError",
     "evalue": "unsupported operand type(s) for -: 'int' and 'str'",
     "output_type": "error",
     "traceback": [
      "\u001b[1;31m---------------------------------------------------------------------------\u001b[0m",
      "\u001b[1;31mTypeError\u001b[0m                                 Traceback (most recent call last)",
      "Cell \u001b[1;32mIn[31], line 5\u001b[0m\n\u001b[0;32m      2\u001b[0m \u001b[38;5;28;01mdef\u001b[39;00m \u001b[38;5;21msubtract\u001b[39m(a\u001b[38;5;241m=\u001b[39m\u001b[38;5;241m10\u001b[39m, b\u001b[38;5;241m=\u001b[39m\u001b[38;5;124m'\u001b[39m\u001b[38;5;124m5\u001b[39m\u001b[38;5;124m'\u001b[39m):\n\u001b[0;32m      3\u001b[0m     \u001b[38;5;28;01mreturn\u001b[39;00m a \u001b[38;5;241m-\u001b[39m b\n\u001b[1;32m----> 5\u001b[0m subtract()\n\u001b[0;32m      6\u001b[0m \u001b[38;5;28mprint\u001b[39m(\u001b[38;5;124m'\u001b[39m\u001b[38;5;124mHola de parte de subtract.py\u001b[39m\u001b[38;5;124m'\u001b[39m)\n",
      "Cell \u001b[1;32mIn[31], line 3\u001b[0m, in \u001b[0;36msubtract\u001b[1;34m(a, b)\u001b[0m\n\u001b[0;32m      2\u001b[0m \u001b[38;5;28;01mdef\u001b[39;00m \u001b[38;5;21msubtract\u001b[39m(a\u001b[38;5;241m=\u001b[39m\u001b[38;5;241m10\u001b[39m, b\u001b[38;5;241m=\u001b[39m\u001b[38;5;124m'\u001b[39m\u001b[38;5;124m5\u001b[39m\u001b[38;5;124m'\u001b[39m):\n\u001b[1;32m----> 3\u001b[0m     \u001b[38;5;28;01mreturn\u001b[39;00m a \u001b[38;5;241m-\u001b[39m b\n",
      "\u001b[1;31mTypeError\u001b[0m: unsupported operand type(s) for -: 'int' and 'str'"
     ]
    }
   ],
   "source": [
    "# subtract.py\n",
    "def subtract(a=10, b='5'):\n",
    "    return a - b\n",
    "   \n",
    "subtract()\n",
    "print('Hola de parte de subtract.py')"
   ]
  },
  {
   "cell_type": "markdown",
   "id": "bf598267-ce73-4a53-9c03-4fc1a16df93d",
   "metadata": {},
   "source": [
    "Como era de esperar, se ha producido un error porque no podemos restar una cadena de un número. Sin embargo, si solo definimos la función pero no la llamamos, el intérprete no tiene ningún problema:\r\n",
    "\r\n"
   ]
  },
  {
   "cell_type": "code",
   "execution_count": 33,
   "id": "cfaa4ec9-d909-4c06-8343-8712ecc6bcc1",
   "metadata": {},
   "outputs": [
    {
     "name": "stdout",
     "output_type": "stream",
     "text": [
      "Hola de parte de subtract.py\n"
     ]
    }
   ],
   "source": [
    "# subtract.py\n",
    "def subtract(a=10, b='5'):\n",
    "    return a - b\n",
    "\n",
    "print('Hola de parte de subtract.py')"
   ]
  },
  {
   "cell_type": "markdown",
   "id": "ec396a40-772e-49b6-b000-ff0a84ab864b",
   "metadata": {},
   "source": [
    "A diferencia de Python, los lenguajes de tipado estático (como Java o C++) tienen un comportamiento diferente: si hay un problema con los tipos de datos, el programa no compilará (es decir, no generará un archivo ejecutable), incluso antes de que este se ejecute.\r\n",
    "\r\n",
    "Cada paradigma tiene sus ventajas y desventajas. Si deseas obtener más información, consulta esta discusión en StackOverflow.## \r\n",
    "\r\n",
    "Sugerencias de \n",
    "tipo\r\n",
    "Las sugerencias de tipo son una solución para indicar estáticamente el tipo de datos de un valor en nuestro código Python.\r\n",
    "\r\n",
    "Las podemos considerar como una forma de obtener algunas características (y beneficios) de un lenguaje de tipado estático en Python. Las sugerencias de tipo se especificaron en PEP 484 y se introdujeron en Python 3.5.\r\n",
    "\r\n",
    "Aquí tenemos un ejemplo de cómo se utilizan las sugerencias de tipo en nuestra función. Anotamos los argumentos y el valor de retorno:"
   ]
  },
  {
   "cell_type": "code",
   "execution_count": null,
   "id": "62206971-8bdc-4f34-9d44-125cce7da04b",
   "metadata": {},
   "outputs": [],
   "source": [
    "def list_of_words(text: str, sep: str = \" \") -> list:\n",
    "    return text.split(sep)"
   ]
  },
  {
   "cell_type": "markdown",
   "id": "2d2b704d-06d9-4216-a26c-19b6e8eda7a0",
   "metadata": {},
   "source": [
    "La sintaxis text: str indica que el argumento text debe ser de tipo str. Del mismo modo, el argumento opcional sep también debe ser de tipo str (el valor por defecto es \" \"). Finalmente, la notación -> list especifica que list_of_words() devolverá una lista.\r\n",
    "\r\n",
    "En cuanto al estilo, PEP 8 recomienda lo siguiente:- \r\n",
    "\r\n",
    "utiliza las reglas normales para los dos puntos, es decir, ningún espacio antes y un espacio después de los dos puntos: texto: \n",
    "s- tr.\r\n",
    "usa espacios alrededor del signo = al combinar una anotación de argumento con un valor predeterminado: sep: str =\n",
    " - \" \".\r\n",
    "usa espacios alrededor de la flecha >: def list_of_words(...) ->\n",
    "\n",
    " list.\r\n",
    "Ten en cuenta que añadir sugerencias de tipo a nuestras funciones no cambiará su comportamiento cuando las llamemos. Para el intérprete de Python, las sugerencias de tipo no cambian nada. Eso significa que las dos versiones de la función a continuación tendrán un comportamiento idéntico durante el tiempo de ejecución.\r\n",
    "\r\n",
    "Sin sugerencias de tipo:"
   ]
  },
  {
   "cell_type": "code",
   "execution_count": null,
   "id": "a267c0b9-25db-477f-8863-d3b49e0866b9",
   "metadata": {},
   "outputs": [],
   "source": [
    "def list_of_words(text, sep):\n",
    "    return text.split(sep)\n",
    "\n",
    "#Con sugerencias de tipo:\n",
    "def list_of_words(text: str, sep: str = \" \") -> list:\n",
    "    return text.split(sep)"
   ]
  },
  {
   "cell_type": "code",
   "execution_count": 37,
   "id": "c80c819d-c9bb-45b5-8744-32c3f5a0f6a7",
   "metadata": {},
   "outputs": [
    {
     "name": "stdout",
     "output_type": "stream",
     "text": [
      "['María', 'tenía', 'un', 'pequeño', 'cordero']\n"
     ]
    }
   ],
   "source": [
    "#Veamos qué sucede cuando pasamos None al argumento opcional sep= cuando su sugerencia de tipo dice \n",
    "#que debería ser str.\n",
    "\n",
    "# list_of_words.py\n",
    "def list_of_words(text: str, sep: str = \" \") -> list:\n",
    "    return text.split(sep)\n",
    "\n",
    "print(list_of_words(\"María tenía un pequeño cordero\", sep=None))"
   ]
  },
  {
   "cell_type": "markdown",
   "id": "6e0684e1-5e6c-480b-9da3-2c76a8bfccfb",
   "metadata": {},
   "source": [
    "Aunque nuestra sugerencia de tipo dice que sep debería ser de tipo str, al intérprete no le importa que hayamos pasado None a sep.  Y como None es un argumento válido para el método split(), el programa se ejecuta sin errores.\r\n",
    "\r\n",
    "De ahí, podemos deducir que las sugerencias de tipo pueden ser útiles a los programadores y a las programadoras para saber qué es qué en su código, especialmente si se trata de equipos de desarrollo que trabajan en la misma base de código. Pero las sugerencias de tipo no cambian el comportamiento real del intérprete de Python.## \r\n",
    "\r\n",
    "Comprobación de \n",
    "tipo\r\n",
    "Aunque el intérprete de Python no implementa las sugerencias de tipo, hay herramientas cuyo único propósito es realizar la comprobación de tipos. La más conocida es mypy.\r\n",
    "\r\n",
    "Podemos instalarla simplemente con pip:\r\n",
    "\r\n",
    "$ pip ins\n",
    "tall mypy\r\n",
    "A continuación, úsala para comprobar si nuestro código contiene errores de tipo:\r\n",
    "\r\n",
    "$ mypy list_\n",
    "of_words.py \r\n",
    "list_of_words.py:4: error: Argument \"sep\" to \"list_of_words\" has incompatible type \"None\"; expected \"str\"\r\n",
    "Found 1 error in 1 file (checked \n",
    "\n",
    "1 source file)\r\n",
    "¡Y mypy nos dice exactamente qué falla en nuestro código!\r\n",
    "\r\n",
    "Ahora podemos arreglar el error:"
   ]
  },
  {
   "cell_type": "code",
   "execution_count": 40,
   "id": "1f9b5e5c-3614-4a3b-9931-cc9211dec2df",
   "metadata": {},
   "outputs": [
    {
     "name": "stdout",
     "output_type": "stream",
     "text": [
      "Hola de parte de list_of_words.py\n"
     ]
    }
   ],
   "source": [
    "# list_of_words.py\n",
    "def list_of_words(text: str, sep: str = \" \") -> list:\n",
    "    return text.split(sep)\n",
    "\n",
    "list_of_words(\"María tenía un pequeño cordero\", sep=\"a\")\n",
    "print(\"Hola de parte de list_of_words.py\")\n",
    "\n",
    "#Y volver a ejecutar mypy:\n",
    "\n",
    "#$ mypy list_of_words.py \n",
    "#Éxito: no se detectaron problemas en 1 archivo de origen"
   ]
  },
  {
   "cell_type": "markdown",
   "id": "1568ee22-ded6-4b65-b97a-b7dbdc8f0b97",
   "metadata": {},
   "source": [
    "¡Ahora nuestro código se ve bien! Observa que mypy solamente revisó nuestro script en busca de incumplimientos de los tipos de datos, pero no lo ejecutó. Podemos decir esto porque no vemos ninguna salida de la sentencia print() en nuestro script."
   ]
  },
  {
   "cell_type": "markdown",
   "id": "b75be769-d2ef-465e-8afe-0085ea24ff4c",
   "metadata": {},
   "source": [
    "Pregunta\n",
    "\n",
    "Este es el resultado que verás en la Terminal al ejecutar python greetings.py:\n",
    "\n",
    "#greetings.py\n",
    "def greetings(name: int) -> str:\n",
    "    return f\"Hola {name}!\"\n",
    "\n",
    "print(greetings(10))\n",
    "\n",
    "\n",
    "## Hola 10!\n",
    "Sí, exactamente así se verá la salida.\n",
    "\n",
    "\n",
    "list_of_words.py:4: error: el argumento 1 a \"saludos\" tiene un tipo incompatible \"int\"; se esperaba \"str\", se encontró 1 error en 1 archivo (se comprobó 1 archivo fuente)\n",
    "* No veremos un error como este"
   ]
  },
  {
   "cell_type": "code",
   "execution_count": null,
   "id": "45f8b239-560f-45e4-8d89-c47971d93f21",
   "metadata": {},
   "outputs": [],
   "source": []
  }
 ],
 "metadata": {
  "kernelspec": {
   "display_name": "Python 3 (ipykernel)",
   "language": "python",
   "name": "python3"
  },
  "language_info": {
   "codemirror_mode": {
    "name": "ipython",
    "version": 3
   },
   "file_extension": ".py",
   "mimetype": "text/x-python",
   "name": "python",
   "nbconvert_exporter": "python",
   "pygments_lexer": "ipython3",
   "version": "3.11.7"
  }
 },
 "nbformat": 4,
 "nbformat_minor": 5
}
