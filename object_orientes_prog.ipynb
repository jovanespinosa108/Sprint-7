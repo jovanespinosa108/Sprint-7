{
 "cells": [
  {
   "cell_type": "markdown",
   "id": "f3e395c4",
   "metadata": {},
   "source": [
    "Programacion orientada a Objetos\n",
    "\n",
    "Python es un lenguaje orientado a objetos. Todo es objeto en Python, ¡incluso las excepciones! Diferentes objetos pertenecen a diferentes clases que determinan lo que podemos hacer con ellos. Las clases pueden formar estructuras ramificadas, donde algunas clases específicas se construyen a partir de otras más genéricas, añadiendo o modificando funcionalidad.\n",
    "\n",
    "Clases \n",
    "\n",
    "Las clases son plantillas para crear instancias, que son objetos independientes de una clase determinada. Por ejemplo, 'Hola Mundo' es una instancia de la clase str\n",
    "\n",
    "Todas las instancias de una misma clase tienen el mismo conjunto de atributos y métodos. Hay muchas clases incorporadas, tales como cadenas, diccionarios, listas, etc. Todas ellas cuentan con métodos específicos que definen su uso y con atributos particulares que contienen información sobre estas clases. Por ejemplo, el método append()  puede aplicarse a cualquier lista porque este método está definido en la clase ."
   ]
  },
  {
   "cell_type": "code",
   "execution_count": 17,
   "id": "da0eb4bb",
   "metadata": {},
   "outputs": [
    {
     "name": "stdout",
     "output_type": "stream",
     "text": [
      "['coat', 'goat', 'boat']\n"
     ]
    }
   ],
   "source": [
    "my_list = ['coat', 'goat']\n",
    "my_list.append('boat')\n",
    "\n",
    "print(my_list)"
   ]
  },
  {
   "cell_type": "markdown",
   "id": "eb6eeb68",
   "metadata": {},
   "source": [
    "Supongamos que estamos desarrollando un videojuego y queremos crear algunos personajes con diferentes características, así como definir las acciones que el jugador pueda realizar en nuestro juego. Hay diferentes tipos de personajes: magos, guerreros, etc., los cuales tienen diferentes propiedades y pueden hacer distintas cosas.\n",
    "\n",
    "¿Cómo convertiríamos el diseño de personajes en código Python? Una posible solución sería utilizar diccionarios para crear personajes y funciones para interactuar con el jugador, por ejemplo, así:"
   ]
  },
  {
   "cell_type": "code",
   "execution_count": 18,
   "id": "bc8ce0ea",
   "metadata": {},
   "outputs": [],
   "source": [
    "mage = {'health': 50, 'damage': 10, 'knowledge': 95}\n",
    "knight = {'health': 100, 'damage': 25, 'knowledge': 20}\n",
    "\n",
    "arthur = knight.copy() #se copia diccionario knight original\n",
    "arthur['name'] = 'Arthur'\n",
    "\n",
    "richard = knight.copy()\n",
    "richard['name'] = 'Richard'\n",
    "\n",
    "def heal(character):\n",
    "    character['health'] += 20\n",
    "\n",
    "heal(richard)\n"
   ]
  },
  {
   "cell_type": "markdown",
   "id": "214cc544",
   "metadata": {},
   "source": [
    "Las clases nos ayudan a crear personajes on mayor facilidad"
   ]
  },
  {
   "cell_type": "code",
   "execution_count": 19,
   "id": "2c66ec2e",
   "metadata": {},
   "outputs": [],
   "source": [
    "class Knight:\n",
    "    def __init__(self,name):\n",
    "        self.health = 100\n",
    "        self.damage = 25\n",
    "        self.knowledge = 20\n",
    "        self.name = name\n",
    "\n",
    "arthur = Knight('Arthur')\n",
    "richard = Knight('Richard')"
   ]
  },
  {
   "cell_type": "markdown",
   "id": "a809f5aa",
   "metadata": {},
   "source": [
    "Aunque Python no lo requiere, lo habitual es que los nombres de las clases empiecen siempre con mayúscula y utilicen camel case en lugar de guion bajo si el nombre de la clase está formado por más de una palabra.\n",
    "\n",
    "Todas las clases de Python tienen un método especial __init__() al que se llama cuando se crea una instancia de la clase. Por ejemplo, cuando usamos Knigth('Arthur')  para crear la variable arthur el parametro especial self  se refiere a la instancia que estamos creando, por lo que no tenemos que pasarle ningún argumento. Sin embargo, tenemos que especificar el argumento name cada vez que vreamos una instancia Knight() por que no hemos especificado un valor por defecto\n",
    "\n",
    "Atributos\n",
    "\n",
    "Cada instacnia de Knigth()   "
   ]
  },
  {
   "cell_type": "code",
   "execution_count": 25,
   "id": "864a3fee",
   "metadata": {},
   "outputs": [
    {
     "name": "stdout",
     "output_type": "stream",
     "text": [
      "100\n",
      "25\n",
      "20\n",
      "Arthur\n"
     ]
    }
   ],
   "source": [
    "print(arthur.health)\n",
    "print(arthur.damage)\n",
    "print(arthur.knowledge)\n",
    "print(arthur.name)"
   ]
  },
  {
   "cell_type": "code",
   "execution_count": 21,
   "id": "57839a5d",
   "metadata": {},
   "outputs": [
    {
     "name": "stdout",
     "output_type": "stream",
     "text": [
      "150\n"
     ]
    }
   ],
   "source": [
    "# tambien se puede cambiar los valoerd de los atributos\n",
    "arthur.health = 150\n",
    "print(arthur.health)"
   ]
  },
  {
   "cell_type": "code",
   "execution_count": 22,
   "id": "b00fa728",
   "metadata": {},
   "outputs": [
    {
     "name": "stdout",
     "output_type": "stream",
     "text": [
      "{'health': 150, 'damage': 25, 'knowledge': 20, 'name': 'Arthur'}\n"
     ]
    }
   ],
   "source": [
    "# Para ver todos los atributos de una instancia en forma de diccionario __dict__:\n",
    "\n",
    "print(arthur.__dict__)"
   ]
  },
  {
   "cell_type": "markdown",
   "id": "266c8f6f",
   "metadata": {},
   "source": [
    "# Metodos\n",
    "\n",
    "Nuestros caballeros tienen algunos atributos útiles, pero ¿qué pasa si queremos que actúen? Podemos definir, dentro de una clase, funciones personalizadas que estarán disponibles para que las instancias de la clase las utilicen. Estas funciones específicas de una clase se llaman metodos:"
   ]
  },
  {
   "cell_type": "code",
   "execution_count": 23,
   "id": "626d8a81",
   "metadata": {},
   "outputs": [],
   "source": [
    "def heal(self):\n",
    "    self.health += 20\n",
    "\n",
    "def learn(self):\n",
    "    self.knowledge += 5"
   ]
  },
  {
   "cell_type": "markdown",
   "id": "6b5cf55b",
   "metadata": {},
   "source": [
    "Podemos definir métodos dentro de una clase exactamente de la misma manera que lo haríamos con cualquier otra función. Los métodos heal() y learn() tiene un unico parametro\n",
    "self, lo que significa que la llamada a estos métodos afecta a la instancia que los llama; no tenemos que pasarles ningún argumento. Llamamos a los métodos utilizando la famosa notación de puntos:+ "
   ]
  },
  {
   "cell_type": "code",
   "execution_count": 27,
   "id": "2fb7024d",
   "metadata": {},
   "outputs": [
    {
     "ename": "AttributeError",
     "evalue": "'Knight' object has no attribute 'heal'",
     "output_type": "error",
     "traceback": [
      "\u001b[31m---------------------------------------------------------------------------\u001b[39m",
      "\u001b[31mAttributeError\u001b[39m                            Traceback (most recent call last)",
      "\u001b[36mCell\u001b[39m\u001b[36m \u001b[39m\u001b[32mIn[27]\u001b[39m\u001b[32m, line 1\u001b[39m\n\u001b[32m----> \u001b[39m\u001b[32m1\u001b[39m \u001b[43marthur\u001b[49m\u001b[43m.\u001b[49m\u001b[43mheal\u001b[49m()\n\u001b[32m      2\u001b[39m arthur.learn()\n\u001b[32m      4\u001b[39m \u001b[38;5;28mprint\u001b[39m(arthur.health)\n",
      "\u001b[31mAttributeError\u001b[39m: 'Knight' object has no attribute 'heal'"
     ]
    }
   ],
   "source": [
    "\n",
    "\n",
    "arthur.heal()\n",
    "arthur.learn()\n",
    "\n",
    "print(arthur.health)\n",
    "print(arthur.knowledge)"
   ]
  },
  {
   "cell_type": "markdown",
   "id": "5404b7b5",
   "metadata": {},
   "source": [
    "Si queremos que nuestros métodos sean más flexibles, podemos incluir otros parámetros:"
   ]
  },
  {
   "cell_type": "code",
   "execution_count": null,
   "id": "5dae89e6",
   "metadata": {},
   "outputs": [
    {
     "ename": "AttributeError",
     "evalue": "'Knight' object has no attribute 'heal'",
     "output_type": "error",
     "traceback": [
      "\u001b[31m---------------------------------------------------------------------------\u001b[39m",
      "\u001b[31mAttributeError\u001b[39m                            Traceback (most recent call last)",
      "\u001b[36mCell\u001b[39m\u001b[36m \u001b[39m\u001b[32mIn[13]\u001b[39m\u001b[32m, line 7\u001b[39m\n\u001b[32m      4\u001b[39m \u001b[38;5;28;01mdef\u001b[39;00m\u001b[38;5;250m \u001b[39m\u001b[34mlearn\u001b[39m(\u001b[38;5;28mself\u001b[39m):\n\u001b[32m      5\u001b[39m     \u001b[38;5;28mself\u001b[39m.knowlegde += \u001b[32m5\u001b[39m\n\u001b[32m----> \u001b[39m\u001b[32m7\u001b[39m \u001b[43marthur\u001b[49m\u001b[43m.\u001b[49m\u001b[43mheal\u001b[49m()\n\u001b[32m      8\u001b[39m arthur.learn()\n",
      "\u001b[31mAttributeError\u001b[39m: 'Knight' object has no attribute 'heal'"
     ]
    }
   ],
   "source": [
    "def heal(self, amount):\n",
    "    self.health =+ amount\n",
    "\n",
    "def learn(self, amount):\n",
    "    self.knowlegde += amount\n",
    "\n",
    "arthur.heal(10)\n",
    "arthur.learn(2)\n",
    "\n",
    "print(arthur.health)\n",
    "print(arthur.knowledge)\n"
   ]
  },
  {
   "cell_type": "markdown",
   "id": "9c6d8f32",
   "metadata": {},
   "source": [
    "Programación orientada a objetos\n",
    "\n",
    "Ejercicio 1\n",
    "Crea una clase Account() que represente una cuenta bancaria con los siguientes atributos:\n",
    "\n",
    "bank para el nombre del banco;\n",
    "acc_id para la ID de la cuenta;\n",
    "holder_id para la ID del titular;\n",
    "balance para el saldo inicial de la cuenta;\n",
    "start_date para la fecha y hora en que se abrió la cuenta.\n",
    "Asegúrate de que balance sea del tipo float y tenga un valor predeterminado de 0.0.. Para establecer un valor y tipo de 'balance' predeterminados, pasa la información dentro de __init__().\n",
    "\n",
    "Este es un ejemplo donde establecemos un valor inicial de 32 y el tipo int en strength:\n",
    "\n",
    "def __init__(self, strength:int=32):\n",
    "\n",
    "Cuando se inicia una instancia de la clase Account(), esta debe registrar automáticamente la fecha y hora en que se abre la cuenta y almacenar estos datos como start_date. Para hacerlo, deberás importar el módulo datetime del paquete datetime:\n",
    "\n",
    "from datetime import datetime\n",
    "\n",
    "Una vez que lo hayas importado, puedes utilizar su método de clase now() para crear una marca temporal a partir de la fecha y la hora reales como esta:\n",
    "\n",
    "from datetime import datetime\n",
    "\n",
    "datetime.now()"
   ]
  },
  {
   "cell_type": "code",
   "execution_count": null,
   "id": "b1c9e068",
   "metadata": {},
   "outputs": [
    {
     "name": "stdout",
     "output_type": "stream",
     "text": [
      "1-000-1234567\n",
      "2025-04-25 01:47:07.863045\n"
     ]
    }
   ],
   "source": [
    "import datetime as dt\n",
    "\n",
    "class Account():\n",
    "    def __init__(self, bank, acc_id, holder_id, balance:float=0.0):\n",
    "        self.bank = bank\n",
    "        self.acc_id = acc_id\n",
    "        self.holder_id = holder_id\n",
    "        self.balance = balance\n",
    "        self.start_date = dt.datetime.now()\n",
    "\n",
    "    def deposit(self: float= 0.0, amount: float=0.0):\n",
    "        self.balance += amount\n",
    "\n",
    "    def withdraw(self: float = 0.0, amount: float=0.0):\n",
    "        self.balance -= amount\n",
    "\n",
    "    @staticmethod\n",
    "    def bankphone(bank):\n",
    "        '''\n",
    "        imprime el número del banco\n",
    "        '''\n",
    "        print('1-000-1234567')\n",
    "\n",
    "    @classmethod\n",
    "    def quick(cls, id_string: str):\n",
    "        acc_id, holder_id = id_string.split('/')\n",
    "\n",
    "        return cls('default_bank', acc_id, holder_id, 0.0)\n",
    "    \n",
    "\n",
    "first = Account('old_trusty', '001', '10043', 500)\n",
    "first.deposit(250)\n",
    "first.withdraw(400)\n",
    "print(first.balance)\n",
    "\n",
    "second = Account.quick('002/10123')\n",
    "print(second.start_date.year)\n",
    "\n",
    "Account.bankphone('imprimir el número del banco')\n",
    "\n",
    "account = Account('Bank Of America', '0025424', '1582')\n",
    "print(account.start_date)\n"
   ]
  },
  {
   "cell_type": "markdown",
   "id": "f5c01d28",
   "metadata": {},
   "source": [
    "Programación orientada a objetos\n",
    "\n",
    "Ejercicio 2\n",
    "\n",
    "Agrega dos metodos deposit() y withdraw(), depositar y retirar, los cuales toman argumentos flotantes y afectan el balance en consecuencia.\n",
    "\n",
    "El metodo deposit() aumenta el balance y el metodo withdraw() lo disminuye, ambos metodos esperan que la entrada amount se del tipo float\n",
    "\n",
    "Ejercicio 3\n",
    "\n",
    "Agrega un metodo para obtener el numero de telefono de un banco determinado, por ejemplo, este metodo puede conectarse online, obtener el numero de telefono del banco e imprimirlo.\n",
    "Por motivos de simplicidad te pedimos que implementes esta funcionalidad creando un metodo estatico, bankphone.\n",
    "\n",
    "Este metodo debe tomar un nombre de banco e imprimir siempre 1-000-1234567 como salida.\n",
    "\n",
    "Observa que el precodigo agregamos una descripcion para el metodo estatico que te pedimos que crees con el siguiente texto: imprimir el numero del banco.\n",
    "\n",
    "\n",
    "Ejecricio 4\n",
    "\n",
    "Supongamos que necesitamos una forma rápida de añadir una cuenta utilizando una cadena que almacene las ID de la cuenta y del titular, por ejemplo, tenemos una cadena '001/2406'\n",
    "\n",
    "Para lograrlo, debes crear el método de clase quick(). Este método debe esperar una cadena con las ID de cuenta y titular, separarlas y almacenar cada valor correspondiente en las variables acc_id y holder_id.\n",
    "\n",
    "Luego, el método debe devolver la clase, donde bank siempre es defaut_bank seguido de acc_id, holder_id y un balance de 0.0, en ese orden.\n",
    "\n",
    "Ejercicio 5\n",
    "\n",
    "Es hora de usar la clase. Crea una instacia llamada first usando la forma predenterminada con la siguiente informacion: el nombre del banco es old_trusty, la identificacion de la cuenta es 001, la identidicacion del titular es 10043, y la suma inicial es 500. Luego deposita 250 unidades mas y retira 400. Imprime el saldo 'balance'.\n",
    "\n",
    "Posteriormente crea otra instancia llamada second, utilizando el metodo quick() pasando '002/10123' como entrada. Imprime el año de creacion de la cuenta (para ello, es importatne recordar que las instancias datetime tienen atributo year)"
   ]
  },
  {
   "cell_type": "code",
   "execution_count": null,
   "id": "ef948aee",
   "metadata": {},
   "outputs": [],
   "source": []
  }
 ],
 "metadata": {
  "kernelspec": {
   "display_name": "Python 3",
   "language": "python",
   "name": "python3"
  },
  "language_info": {
   "codemirror_mode": {
    "name": "ipython",
    "version": 3
   },
   "file_extension": ".py",
   "mimetype": "text/x-python",
   "name": "python",
   "nbconvert_exporter": "python",
   "pygments_lexer": "ipython3",
   "version": "3.11.11"
  }
 },
 "nbformat": 4,
 "nbformat_minor": 5
}
